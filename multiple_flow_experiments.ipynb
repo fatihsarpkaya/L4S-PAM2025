{
 "cells": [
  {
   "cell_type": "markdown",
   "id": "e699cd97-25db-45e4-bb01-6f00fa520ff2",
   "metadata": {},
   "source": [
    "### Configure environment"
   ]
  },
  {
   "cell_type": "code",
   "execution_count": null,
   "id": "3029de8f-7fce-45d0-8d4e-53433f8661e0",
   "metadata": {},
   "outputs": [],
   "source": [
    "from fabrictestbed_extensions.fablib.fablib import FablibManager as fablib_manager\n",
    "fablib = fablib_manager() \n",
    "conf = fablib.show_config()"
   ]
  },
  {
   "cell_type": "markdown",
   "id": "d46cb8a3-d55e-4a9a-add2-0c3907f101ac",
   "metadata": {},
   "source": [
    "### Define configuration for this experiment"
   ]
  },
  {
   "cell_type": "code",
   "execution_count": null,
   "id": "ac8fa5ac-e3e4-47f5-987e-bb42ed21d3c3",
   "metadata": {},
   "outputs": [],
   "source": [
    "slice_name=\"l4s-multiple\" + fablib.get_bastion_username()\n",
    "\n",
    "node_conf = [\n",
    " {'name': \"tx_L4S\",    'cores': 8, 'ram': 64, 'disk': 20, 'image': 'default_ubuntu_22', 'packages': ['iperf3', 'net-tools', 'moreutils','python3']}, \n",
    " {'name': \"tx_legacy\",    'cores': 8, 'ram': 64, 'disk': 20, 'image': 'default_ubuntu_22', 'packages': ['iperf3', 'net-tools', 'moreutils','python3']}, \n",
    " {'name': \"router\", 'cores': 8, 'ram': 64, 'disk': 20, 'image': 'default_ubuntu_22', 'packages': ['iperf3', 'net-tools', 'moreutils','python3']}, \n",
    " {'name': \"delay\", 'cores': 8, 'ram': 64, 'disk': 20, 'image': 'default_ubuntu_22', 'packages': ['iperf3', 'net-tools', 'moreutils','python3']}, \n",
    " {'name': \"rx_L4S\",    'cores': 8, 'ram': 64, 'disk': 20, 'image': 'default_ubuntu_22', 'packages': ['iperf3', 'net-tools', 'moreutils','python3']}, \n",
    " {'name': \"rx_legacy\",    'cores': 8, 'ram': 64, 'disk': 20, 'image': 'default_ubuntu_22', 'packages': ['iperf3', 'net-tools', 'moreutils','python3']}\n",
    "]\n",
    "net_conf = [\n",
    " {\"name\": \"net-tx\", \"subnet\": \"10.0.0.0/24\", \"nodes\": [{\"name\": \"tx_L4S\",   \"addr\": \"10.0.0.100\"}, {\"name\": \"tx_legacy\",   \"addr\": \"10.0.0.101\"}, {\"name\": \"delay\", \"addr\": \"10.0.0.2\"}]},\n",
    " {\"name\": \"net-delay-router\", \"subnet\": \"10.0.2.0/24\", \"nodes\": [{\"name\": \"delay\",   \"addr\": \"10.0.2.2\"}, {\"name\": \"router\", \"addr\": \"10.0.2.1\"}]},\n",
    " {\"name\": \"net-rx\", \"subnet\": \"10.0.5.0/24\", \"nodes\": [{\"name\": \"router\",   \"addr\": \"10.0.5.1\"}, {\"name\": \"rx_L4S\", \"addr\": \"10.0.5.100\"}, {\"name\": \"rx_legacy\", \"addr\": \"10.0.5.101\"}]}\n",
    "\n",
    "]\n",
    "route_conf = [\n",
    " {\"addr\": \"10.0.5.0/24\", \"gw\": \"10.0.0.2\", \"nodes\": [\"tx_L4S\", \"tx_legacy\"]}, \n",
    " {\"addr\": \"10.0.5.0/24\", \"gw\": \"10.0.2.1\", \"nodes\": [\"delay\"]},\n",
    "\n",
    " {\"addr\": \"10.0.0.0/24\", \"gw\": \"10.0.5.1\", \"nodes\": [\"rx_L4S\", \"rx_legacy\"]},\n",
    " {\"addr\": \"10.0.0.0/24\", \"gw\": \"10.0.2.2\", \"nodes\": [\"router\"]}\n",
    "\n",
    "]\n",
    "exp_conf = {'cores': sum([ n['cores'] for n in node_conf]), 'nic': sum([len(n['nodes']) for n in net_conf]) }"
   ]
  },
  {
   "cell_type": "markdown",
   "id": "671606b1-5114-4ed2-a45d-2aedb9715d51",
   "metadata": {
    "tags": []
   },
   "source": [
    "### Reserve resources\n",
    "\n",
    "Now, we are ready to reserve resources!"
   ]
  },
  {
   "cell_type": "markdown",
   "id": "5c18d7f0-b22f-4f51-959d-1625d8975731",
   "metadata": {},
   "source": [
    "First, make sure you don’t already have a slice with this name:"
   ]
  },
  {
   "cell_type": "code",
   "execution_count": null,
   "id": "979c6a12-8ef0-41c2-95c1-a0d6992c696f",
   "metadata": {},
   "outputs": [],
   "source": [
    "try:\n",
    "    slice = fablib.get_slice(slice_name)\n",
    "    print(\"You already have a slice by this name!\")\n",
    "    print(\"If you previously reserved resources, skip to the 'log in to resources' section.\")\n",
    "except:\n",
    "    print(\"You don't have a slice named %s yet.\" % slice_name)\n",
    "    print(\"Continue to the next step to make one.\")\n",
    "    slice = fablib.new_slice(name=slice_name)"
   ]
  },
  {
   "cell_type": "markdown",
   "id": "040ba302-135e-4801-b1e0-9494ce668fce",
   "metadata": {},
   "source": [
    "We will select a random site that has sufficient resources for our experiment:"
   ]
  },
  {
   "cell_type": "code",
   "execution_count": null,
   "id": "a973c997-62d8-452d-9022-864b8dc822c7",
   "metadata": {},
   "outputs": [],
   "source": [
    "while True:\n",
    "    site_name = fablib.get_random_site()\n",
    "    if ( (fablib.resources.get_core_available(site_name) > 1.2*exp_conf['cores']) and\n",
    "        (fablib.resources.get_component_available(site_name, 'SharedNIC-ConnectX-6') > 1.2**exp_conf['nic']) ):\n",
    "        break\n",
    "\n",
    "fablib.show_site(site_name)"
   ]
  },
  {
   "cell_type": "markdown",
   "id": "cc6010c4-245b-4589-b827-5a0ac31b728a",
   "metadata": {},
   "source": [
    "Then we will add hosts and network segments:"
   ]
  },
  {
   "cell_type": "code",
   "execution_count": null,
   "id": "9b9ef98c-0a2d-4ed6-b7f3-0adbf4ae1d83",
   "metadata": {},
   "outputs": [],
   "source": [
    "# this cell sets up the nodes\n",
    "for n in node_conf:\n",
    "    slice.add_node(name=n['name'], site=site_name, \n",
    "                   cores=n['cores'], \n",
    "                   ram=n['ram'], \n",
    "                   disk=n['disk'], \n",
    "                   image=n['image'])"
   ]
  },
  {
   "cell_type": "code",
   "execution_count": null,
   "id": "32b2f24e-06dd-4f45-8a0f-3ca287821f5f",
   "metadata": {},
   "outputs": [],
   "source": [
    "# this cell sets up the network segments\n",
    "for n in net_conf:\n",
    "    ifaces = [slice.get_node(node[\"name\"]).add_component(model=\"NIC_Basic\", \n",
    "                                                 name=n[\"name\"]).get_interfaces()[0] for node in n['nodes'] ]\n",
    "    slice.add_l2network(name=n[\"name\"], type='L2Bridge', interfaces=ifaces)"
   ]
  },
  {
   "cell_type": "markdown",
   "id": "fd98e9c9-fcd8-45bd-bafe-9cfadfd369a6",
   "metadata": {},
   "source": [
    "The following cell submits our request to the FABRIC site. The output of this cell will update automatically as the status of our request changes.\n",
    "\n",
    "-   While it is being prepared, the “State” of the slice will appear as “Configuring”.\n",
    "-   When it is ready, the “State” of the slice will change to “StableOK”.\n",
    "\n",
    "You may prefer to walk away and come back in a few minutes (for simple slices) or a few tens of minutes (for more complicated slices with many resources)."
   ]
  },
  {
   "cell_type": "code",
   "execution_count": null,
   "id": "aad95a3c-fd11-475c-94b1-cf1587666663",
   "metadata": {},
   "outputs": [],
   "source": [
    "slice.submit()"
   ]
  },
  {
   "cell_type": "code",
   "execution_count": null,
   "id": "b415d743-5ee5-4029-ab5e-1391d645c4dc",
   "metadata": {},
   "outputs": [],
   "source": [
    "slice.get_state()\n",
    "slice.wait_ssh(progress=True)"
   ]
  },
  {
   "cell_type": "markdown",
   "id": "d34b617c-2e5c-40c3-98fc-73be3183b5f4",
   "metadata": {},
   "source": [
    "### Extend your slice\n",
    "\n",
    "If you don’t plan to finish an experiment in one day, you can extend your slice. The following cell extends your reservation for 7 days."
   ]
  },
  {
   "cell_type": "code",
   "execution_count": null,
   "id": "a7f4b068-005a-4fbf-ad31-89dccc85dc30",
   "metadata": {},
   "outputs": [],
   "source": [
    "from datetime import datetime\n",
    "from datetime import timezone\n",
    "from datetime import timedelta\n",
    "\n",
    "# Set end date to 7 days from now\n",
    "end_date = (datetime.now(timezone.utc) + timedelta(days=7)).strftime(\"%Y-%m-%d %H:%M:%S %z\")\n",
    "slice.renew(end_date)"
   ]
  },
  {
   "cell_type": "markdown",
   "id": "d7e9a06a-8f21-49d1-9b2d-c019e9161ff6",
   "metadata": {},
   "source": [
    "## We have reserved our slice and now we need to configure our nodes. ##"
   ]
  },
  {
   "cell_type": "markdown",
   "id": "7c4ac5bb-61a3-423f-a549-7df87336f1cf",
   "metadata": {},
   "source": [
    "### Configure Experiment - Prague Kernel Installation"
   ]
  },
  {
   "cell_type": "markdown",
   "id": "ea311d39-a306-4b59-9ae1-cbfe888d4481",
   "metadata": {},
   "source": [
    "#### Install Prague kernel to all the nodes. Configure DualPI2 on the router. ####"
   ]
  },
  {
   "cell_type": "code",
   "execution_count": null,
   "id": "14183601-68ff-4baa-8145-94b1ad78cde9",
   "metadata": {
    "scrolled": true
   },
   "outputs": [],
   "source": [
    "for node in slice.get_nodes():\n",
    "    # Download and unzip the kernel package\n",
    "    node.execute(\"wget https://github.com/L4STeam/linux/releases/download/testing-build/l4s-testing.zip\")\n",
    "    node.execute(\"sudo apt install unzip\")\n",
    "    node.execute(\"unzip l4s-testing.zip\")\n",
    "    \n",
    "    # Install the kernel packages and update GRUB\n",
    "    node.execute(\"sudo dpkg --install debian_build/*\")\n",
    "    node.execute(\"sudo update-grub\")\n",
    "    node.execute(\"sudo reboot\")\n",
    "\n",
    "# wait for all nodes to come back up\n",
    "slice.wait_ssh(progress=True)\n",
    "for node in slice.get_nodes():\n",
    "    # check kernel version\n",
    "    node.execute(\"hostname; uname -a\")"
   ]
  },
  {
   "cell_type": "code",
   "execution_count": null,
   "id": "3a9b69b3-c705-4d26-ab88-1b4311133cf4",
   "metadata": {
    "scrolled": true
   },
   "outputs": [],
   "source": [
    "slice.get_node(name=\"router\").execute(\"sudo dpkg --install debian_build/*\")\n",
    "slice.get_node(name=\"router\").execute(\"sudo update-grub\")\n",
    "slice.get_node(name=\"router\").execute(\"sudo reboot\")"
   ]
  },
  {
   "cell_type": "code",
   "execution_count": null,
   "id": "c910fe90-6c02-49ca-9461-72a9c0494b5d",
   "metadata": {
    "scrolled": true
   },
   "outputs": [],
   "source": [
    "#configuration for DUALPI2 bottleneck on the router\n",
    "cmd_dualpi2=\"\"\"sudo apt-get update\n",
    "sudo apt -y install git gcc make bison flex libdb-dev libelf-dev pkg-config libbpf-dev libmnl-dev libcap-dev libatm1-dev selinux-utils libselinux1-dev\n",
    "sudo git clone https://github.com/L4STeam/iproute2.git && cd iproute2\n",
    "sudo ./configure\n",
    "sudo make\n",
    "sudo make install\"\"\"\n",
    "slice.get_node(name=\"router\").execute(cmd_dualpi2)\n",
    "slice.get_node(name=\"router\").execute(\"sudo modprobe sch_dualpi2\")"
   ]
  },
  {
   "cell_type": "markdown",
   "id": "a070504c-1e62-4243-bf4b-927e6bf829b2",
   "metadata": {},
   "source": [
    "### Configure Experiment - BBRv2 Kernel Installation - Do this if you want to use CUBIC or BBRv2 on the classic senders."
   ]
  },
  {
   "cell_type": "markdown",
   "id": "d2a93d2a-799e-4731-b1d6-934bb1dc9e59",
   "metadata": {},
   "source": [
    "#### Install BBRv2 kernel to classic senders and receivers. ####"
   ]
  },
  {
   "cell_type": "code",
   "execution_count": null,
   "id": "dfd66345-b489-4dbf-81ab-a2b890852798",
   "metadata": {
    "scrolled": true
   },
   "outputs": [],
   "source": [
    "pkg_list = ['linux-headers-5.13.12_5.13.12-2_amd64.deb',\n",
    "            'linux-libc-dev_5.13.12-2_amd64.deb',\n",
    "            'linux-image-5.13.12_5.13.12-2_amd64.deb']\n",
    "\n",
    "cmd_BBRv2 = \"\"\"sudo grub-set-default \"Advanced options for Ubuntu>Ubuntu, with Linux 5.13.12\"\n",
    "sudo grub-mkconfig -o /boot/grub/grub.cfg\n",
    "sudo sed -i 's/^GRUB_DEFAULT=.*/GRUB_DEFAULT=saved/' /etc/default/grub\n",
    "sudo update-grub \n",
    "sudo reboot\"\"\"\n",
    "\n",
    "\n",
    "for pkg in pkg_list:\n",
    "        slice.get_node(name=\"tx_legacy\").execute(\"wget https://raw.githubusercontent.com/sdatta97/imcbbrrepro/main/setup/{packet}\".format(packet=pkg))\n",
    "        slice.get_node(name=\"rx_legacy\").execute(\"wget https://raw.githubusercontent.com/sdatta97/imcbbrrepro/main/setup/{packet}\".format(packet=pkg))\n",
    "      \n",
    "slice.get_node(name=\"tx_legacy\").execute(\"sudo dpkg -i  *.deb\")\n",
    "slice.get_node(name=\"tx_legacy\").execute(cmd_BBRv2)\n",
    "\n",
    "slice.get_node(name=\"rx_legacy\").execute(\"sudo dpkg -i  *.deb\")\n",
    "slice.get_node(name=\"rx_legacy\").execute(cmd_BBRv2)"
   ]
  },
  {
   "cell_type": "markdown",
   "id": "1a144856-242f-4bde-a0fa-0b6d388320b7",
   "metadata": {},
   "source": [
    "### Configure Experiment - BBRv3 Kernel Installation - Do this if you want to use BBRv3 on the classic senders."
   ]
  },
  {
   "cell_type": "markdown",
   "id": "31336015-864a-42ec-b5a7-a621d04c5cf5",
   "metadata": {},
   "source": [
    "#### Install BBRv3 kernel to classic senders and receivers. ####"
   ]
  },
  {
   "cell_type": "code",
   "execution_count": null,
   "id": "2041052f-54f6-46a5-a3e5-932ec58a2dcf",
   "metadata": {
    "scrolled": true
   },
   "outputs": [],
   "source": [
    "pkg_list = ['linux-headers-6.4.0+_6.4.0-g6e321d1c986a-5_amd64.deb',\n",
    "            'linux-image-6.4.0+_6.4.0-g6e321d1c986a-5_amd64.deb',\n",
    "            'linux-libc-dev_6.4.0-g6e321d1c986a-5_amd64.deb']\n",
    "\n",
    "cmd_BBRv3 =\"\"\"sudo grub-set-default \"Advanced options for Ubuntu>Ubuntu, with Linux 6.4.0\"\n",
    "sudo grub-mkconfig -o /boot/grub/grub.cfg\n",
    "sudo sed -i 's/^GRUB_DEFAULT=.*/GRUB_DEFAULT=saved/' /etc/default/grub\n",
    "sudo update-grub\n",
    "sudo reboot\"\"\"\n",
    "\n",
    "for pkg in pkg_list:\n",
    "    slice.get_node(name=\"tx_legacy\").execute(\"wget https://github.com/ashutoshs25/bbrv3-kernel/raw/main/{packet}\".format(packet=pkg))\n",
    "    slice.get_node(name=\"rx_legacy\").execute(\"wget https://github.com/ashutoshs25/bbrv3-kernel/raw/main/{packet}\".format(packet=pkg))\n",
    "    \n",
    "slice.get_node(name=\"tx_legacy\").execute(\"sudo dpkg -i  *.deb\")\n",
    "slice.get_node(name=\"tx_legacy\").execute(cmd_BBRv3)\n",
    "\n",
    "slice.get_node(name=\"rx_legacy\").execute(\"sudo dpkg -i  *.deb\")\n",
    "slice.get_node(name=\"rx_legacy\").execute(cmd_BBRv3)"
   ]
  },
  {
   "cell_type": "markdown",
   "id": "c964110b-40e3-47c4-b285-74b6a9e99b3f",
   "metadata": {},
   "source": [
    "### Configure Experiment - Install Linux 5.17 to the router - Do this if you want to use L4S-aware FQ-CoDel on the router. Otherwise, use Prague kernel."
   ]
  },
  {
   "cell_type": "code",
   "execution_count": null,
   "id": "994672e1-7b13-4cf5-8256-527f2c41751d",
   "metadata": {
    "scrolled": true
   },
   "outputs": [],
   "source": [
    "slice.get_node(name=\"router\").execute(\"sudo wget https://kernel.ubuntu.com/mainline/v5.17/amd64/linux-headers-5.17.0-051700-generic_5.17.0-051700.202203202130_amd64.deb\")\n",
    "slice.get_node(name=\"router\").execute(\"sudo wget https://kernel.ubuntu.com/mainline/v5.17/amd64/linux-headers-5.17.0-051700_5.17.0-051700.202203202130_all.deb\")\n",
    "slice.get_node(name=\"router\").execute(\"sudo wget https://kernel.ubuntu.com/mainline/v5.17/amd64/linux-image-unsigned-5.17.0-051700-generic_5.17.0-051700.202203202130_amd64.deb\")\n",
    "slice.get_node(name=\"router\").execute(\"sudo wget https://kernel.ubuntu.com/mainline/v5.17/amd64/linux-modules-5.17.0-051700-generic_5.17.0-051700.202203202130_amd64.deb\")\n",
    "\n",
    "\n",
    "slice.get_node(name=\"router\").execute(\"rm -rf new_kernel\")\n",
    "slice.get_node(name=\"router\").execute(\"mkdir new_kernel\")\n",
    "slice.get_node(name=\"router\").execute(\"mv *.deb new_kernel/\")\n",
    "# Install the kernel packages and update GRUB\n",
    "\n",
    "slice.get_node(name=\"router\").execute(\"sudo dpkg --install new_kernel/*.deb\")\n",
    "slice.get_node(name=\"router\").execute(\"sudo apt-get -f install -y\")\n",
    "\n",
    "slice.get_node(name=\"router\").execute(\"sudo update-grub\")\n",
    "slice.get_node(name=\"router\").execute(\"sudo reboot\")\n",
    "\n",
    "# wait for all nodes to come back up\n",
    "slice.wait_ssh(progress=True)\n",
    "slice.get_node(name=\"router\").execute(\"hostname; uname -a\")"
   ]
  },
  {
   "cell_type": "markdown",
   "id": "b7a8be52-8ca3-4d29-a5ee-283331f42949",
   "metadata": {},
   "source": [
    "#### L4S-aware FQ-CoDel requires new iproute2 version."
   ]
  },
  {
   "cell_type": "code",
   "execution_count": null,
   "id": "5d44adec-761f-4a7c-9225-401980f8e34d",
   "metadata": {
    "scrolled": true
   },
   "outputs": [],
   "source": [
    "cmd_iproute2 = \"\"\"wget https://mirrors.edge.kernel.org/pub/linux/utils/net/iproute2/iproute2-6.9.0.tar.gz\n",
    "tar -xvf iproute2-6.9.0.tar.gz\n",
    "cd iproute2-6.9.0\n",
    "sudo apt-get install -y bison\n",
    "sudo apt-get install -y pkg-config\n",
    "sudo apt-get install -y flex\n",
    "make\n",
    "sudo make install\"\"\"\n",
    "\n",
    "slice.get_node(name=\"router\").execute(cmd_iproute2)\n",
    "#slice.get_node(name=\"rx_legacy\").execute(cmd_iproute2)"
   ]
  },
  {
   "cell_type": "markdown",
   "id": "c8f308c2-d2ef-44d3-9ec4-084ec440971e",
   "metadata": {},
   "source": [
    "### Check kernel and ip versions of the nodes to be sure. ###"
   ]
  },
  {
   "cell_type": "code",
   "execution_count": null,
   "id": "c394ce3b-b8d7-4c36-b942-c8f578da523b",
   "metadata": {},
   "outputs": [],
   "source": [
    "slice.get_node(name=\"tx_legacy\").execute(\"sudo ip -V\")\n",
    "slice.get_node(name=\"rx_legacy\").execute(\"sudo ip -V\")"
   ]
  },
  {
   "cell_type": "code",
   "execution_count": null,
   "id": "3dd08c53-ffa4-4ef5-8b16-1d7c59a9e7f9",
   "metadata": {},
   "outputs": [],
   "source": [
    "slice.get_node(name=\"router\").execute(\"ip -V\")"
   ]
  },
  {
   "cell_type": "code",
   "execution_count": null,
   "id": "47fd6eff-121d-4b28-8c80-7f0f979eadda",
   "metadata": {},
   "outputs": [],
   "source": [
    "for node in slice.get_nodes():\n",
    "    # check kernel version\n",
    "    node.execute(\"hostname; uname -a\")"
   ]
  },
  {
   "cell_type": "markdown",
   "id": "f24abb79-8cf0-4175-a405-56265ccf0538",
   "metadata": {},
   "source": [
    "### Configure resources\n",
    "\n",
    "Next, we will configure the resources so they are ready to use."
   ]
  },
  {
   "cell_type": "code",
   "execution_count": null,
   "id": "ddebb2cd-42fb-48d5-962b-11f30e68f184",
   "metadata": {},
   "outputs": [],
   "source": [
    "slice = fablib.get_slice(name=slice_name)"
   ]
  },
  {
   "cell_type": "code",
   "execution_count": null,
   "id": "7d7f6d80-3d38-4943-9c1a-60d92c3d0d19",
   "metadata": {},
   "outputs": [],
   "source": [
    "# install packages\n",
    "# this will take a while and will run in background while you do other steps\n",
    "for n in node_conf:\n",
    "    if len(n['packages']):\n",
    "        node = slice.get_node(n['name'])\n",
    "        pkg = \" \".join(n['packages'])\n",
    "        node.execute_thread(\"sudo apt update; sudo apt -y install %s\" % pkg)"
   ]
  },
  {
   "cell_type": "code",
   "execution_count": null,
   "id": "5e96e4be-1a50-4a6f-b579-9fcb1ffd843d",
   "metadata": {},
   "outputs": [],
   "source": [
    "# bring interfaces up and either assign an address (if there is one) or flush address\n",
    "from ipaddress import ip_address, IPv4Address, IPv4Network\n",
    "\n",
    "for net in net_conf:\n",
    "    for n in net['nodes']:\n",
    "        if_name = n['name'] + '-' + net['name'] + '-p1'\n",
    "        iface = slice.get_interface(if_name)\n",
    "        iface.ip_link_up()\n",
    "        if n['addr']:\n",
    "            iface.ip_addr_add(addr=n['addr'], subnet=IPv4Network(net['subnet']))\n",
    "        else:\n",
    "            iface.get_node().execute(\"sudo ip addr flush dev %s\"  % iface.get_device_name())"
   ]
  },
  {
   "cell_type": "code",
   "execution_count": null,
   "id": "a4bcf2bf-b8ec-4be8-8be8-09cdc19259d5",
   "metadata": {},
   "outputs": [],
   "source": [
    "# prepare a \"hosts\" file that has names and addresses of every node\n",
    "hosts_txt = [ \"%s\\t%s\" % ( n['addr'], n['name'] ) for net in net_conf  for n in net['nodes'] if type(n) is dict and n['addr']]\n",
    "for n in slice.get_nodes():\n",
    "    for h in hosts_txt:\n",
    "        n.execute(\"echo %s | sudo tee -a /etc/hosts\" % h)"
   ]
  },
  {
   "cell_type": "code",
   "execution_count": null,
   "id": "04674abd-afec-4f16-9513-9ae81b4cfca0",
   "metadata": {},
   "outputs": [],
   "source": [
    "# enable IPv4 forwarding on all nodes\n",
    "for n in slice.get_nodes():\n",
    "    n.execute(\"sudo sysctl -w net.ipv4.ip_forward=1\")"
   ]
  },
  {
   "cell_type": "code",
   "execution_count": null,
   "id": "ecd32e9b-0ad6-48ec-b7a3-95380bd73862",
   "metadata": {},
   "outputs": [],
   "source": [
    "# set up static routes\n",
    "for rt in route_conf:\n",
    "    for n in rt['nodes']:\n",
    "        slice.get_node(name=n).ip_route_add(subnet=IPv4Network(rt['addr']), gateway=rt['gw'])"
   ]
  },
  {
   "cell_type": "code",
   "execution_count": null,
   "id": "2507e702-bc51-40af-a4b3-a6a015db40ca",
   "metadata": {},
   "outputs": [],
   "source": [
    "# turn off segmentation offload on interfaces\n",
    "for iface in slice.get_interfaces():\n",
    "    iface_name = iface.get_device_name()\n",
    "    n = iface.get_node()\n",
    "    offloads = [\"gro\", \"lro\", \"gso\", \"tso\"]\n",
    "    for offload in offloads:\n",
    "        n.execute(\"sudo ethtool -K %s %s off\" % (iface_name, offload))"
   ]
  },
  {
   "cell_type": "markdown",
   "id": "03518528-84bc-4eed-a9b0-33ef803ce901",
   "metadata": {},
   "source": [
    "### Draw the network topology"
   ]
  },
  {
   "cell_type": "markdown",
   "id": "486469db-835d-4fdb-9923-fa6101699c09",
   "metadata": {},
   "source": [
    "The following cell will draw the network topology, for your reference. The interface name and addresses of each experiment interface will be shown on the drawing."
   ]
  },
  {
   "cell_type": "code",
   "execution_count": null,
   "id": "9e3a30b5-fade-4b89-98e1-9d757f0a0f8a",
   "metadata": {},
   "outputs": [],
   "source": [
    "l2_nets = [(n.get_name(), {'color': 'lavender'}) for n in slice.get_l2networks() ]\n",
    "l3_nets = [(n.get_name(), {'color': 'pink'}) for n in slice.get_l3networks() ]\n",
    "hosts   =   [(n.get_name(), {'color': 'lightblue'}) for n in slice.get_nodes()]\n",
    "nodes = l2_nets + l3_nets + hosts\n",
    "ifaces = [iface.toDict() for iface in slice.get_interfaces()]\n",
    "edges = [(iface['network'], iface['node'], \n",
    "          {'label': iface['physical_dev'] + '\\n' + iface['ip_addr'] + '\\n' + iface['mac']}) for iface in ifaces]"
   ]
  },
  {
   "cell_type": "code",
   "execution_count": null,
   "id": "52f1f8a5-cd7c-4784-a694-7c09f73e26dc",
   "metadata": {},
   "outputs": [],
   "source": [
    "import networkx as nx\n",
    "import matplotlib.pyplot as plt\n",
    "plt.figure(figsize=(len(nodes),len(nodes)))\n",
    "G = nx.Graph()\n",
    "G.add_nodes_from(nodes)\n",
    "G.add_edges_from(edges)\n",
    "pos = nx.spring_layout(G)\n",
    "nx.draw(G, pos, node_shape='s',  \n",
    "        node_color=[n[1]['color'] for n in nodes], \n",
    "        node_size=[len(n[0])*400 for n in nodes],  \n",
    "        with_labels=True);\n",
    "nx.draw_networkx_edge_labels(G,pos,\n",
    "                             edge_labels=nx.get_edge_attributes(G,'label'),\n",
    "                             font_color='gray',  font_size=8, rotate=False);"
   ]
  },
  {
   "cell_type": "markdown",
   "id": "43cf46b8-310f-4893-af93-4389ec882afe",
   "metadata": {},
   "source": [
    "### Log into resources"
   ]
  },
  {
   "cell_type": "markdown",
   "id": "bd5c2ac5-ee82-4bc8-b568-a423f4a6197d",
   "metadata": {},
   "source": [
    "Now, we are finally ready to log in to our resources over SSH! Run the following cells, and observe the table output - you will see an SSH command for each of the resources in your topology."
   ]
  },
  {
   "cell_type": "code",
   "execution_count": null,
   "id": "22e3e270-0d37-4f59-bf9a-591450653259",
   "metadata": {},
   "outputs": [],
   "source": [
    "import pandas as pd\n",
    "pd.set_option('display.max_colwidth', None)\n",
    "slice_info = [{'Name': n.get_name(), 'SSH command': n.get_ssh_command()} for n in slice.get_nodes()]\n",
    "pd.DataFrame(slice_info).set_index('Name')"
   ]
  },
  {
   "cell_type": "markdown",
   "id": "fe26bfb9-6ada-45bf-86d4-e36519bd78f3",
   "metadata": {},
   "source": [
    "Now, you can open an SSH session on any of the resources as follows:\n",
    "\n",
    "-   in Jupyter, from the menu bar, use File \\> New \\> Terminal to open a new terminal.\n",
    "-   copy an SSH command from the table, and paste it into the terminal. (Note that each SSH command is a single line, even if the display wraps the text to a second line! When you copy and paste it, paste it all together.)\n",
    "\n",
    "You can repeat this process (open several terminals) to start a session on each resource. Each terminal session will have a tab in the Jupyter environment, so that you can easily switch between them."
   ]
  },
  {
   "cell_type": "markdown",
   "id": "7c64c854-bd34-4eb9-be02-1fa9680e753d",
   "metadata": {},
   "source": [
    "### If you want to use BBRv3 with ECN support:"
   ]
  },
  {
   "cell_type": "markdown",
   "id": "b9281739-2e84-44ae-a8f2-65d058d968bd",
   "metadata": {},
   "source": [
    "After installing the kernel for BBRv3 as above, you should also update iproute2 on the sender and on the receiver. Open an SSH session on the sender and the receiver (i.e. tx_legacy_node and rx_legacy_node), and apply the following commands. "
   ]
  },
  {
   "cell_type": "code",
   "execution_count": null,
   "id": "5da83a3f-5bfa-4e4a-8ad5-a7f178766bc7",
   "metadata": {},
   "outputs": [],
   "source": [
    "\"\"\"\n",
    "cd /tmp/\n",
    "\n",
    "wget https://github.com/google/bbr/raw/v3/gtests/net/tcp/bbr/nsperf/0001-ss-output-TCP-BBRv3-diag-information.patch\n",
    "wget https://github.com/google/bbr/raw/v3/gtests/net/tcp/bbr/nsperf/0002-ip-introduce-the-ecn_low-per-route-feature.patch\n",
    "wget https://github.com/google/bbr/raw/v3/gtests/net/tcp/bbr/nsperf/0003-ss-display-ecn_low-if-tcp_info-tcpi_options-TCPI_OPT.patch\n",
    "wget https://github.com/google/bbr/raw/v3/gtests/net/tcp/bbr/nsperf/configure.sh\n",
    "wget https://github.com/google/bbr/raw/v3/gtests/net/tcp/bbr/nsperf/graph_tests.sh\n",
    "wget https://github.com/google/bbr/raw/v3/gtests/net/tcp/bbr/nsperf/median.py\n",
    "wget https://github.com/google/bbr/raw/v3/gtests/net/tcp/bbr/nsperf/nsperf.py\n",
    "wget https://github.com/google/bbr/raw/v3/gtests/net/tcp/bbr/nsperf/run_tests.sh\n",
    "wget https://github.com/google/bbr/raw/v3/gtests/net/tcp/bbr/nsperf/ss_log_parser.py\n",
    "\n",
    "\n",
    "sudo mkdir /root/nsperf\n",
    "sudo mv /tmp/* /root/nsperf/\n",
    "\n",
    "sudo -i\n",
    "\n",
    "cd /root/nsperf\n",
    "chmod +x configure.sh\n",
    "./configure.sh\n",
    "\n",
    "\n",
    "cd /root/iproute2/iproute2\n",
    "\n",
    "git config --global user.name \"username\"  # put a user name for username\n",
    "git config --global user.email \"email\"  # put an email for email\n",
    "\n",
    "\n",
    "git am /root/nsperf/0001-ss-output-TCP-BBRv3-diag-information.patch\n",
    "git am /root/nsperf/0002-ip-introduce-the-ecn_low-per-route-feature.patch\n",
    "git am /root/nsperf/0003-ss-display-ecn_low-if-tcp_info-tcpi_options-TCPI_OPT.patch\n",
    "\n",
    "cd /root/iproute2/iproute2\n",
    "make clean\n",
    "make\n",
    "sudo make install\n",
    "\"\"\"\n",
    "\n",
    "# To apply low-latency ecn for a specific route, use the following commands on the terminal.\n",
    "\n",
    "\"\"\"\n",
    "alias ip=/root/iproute2/iproute2/ip/ip\n",
    "ip route change ROUTENAME features ecn_low\n",
    "\"\"\""
   ]
  },
  {
   "cell_type": "markdown",
   "id": "31e43f07-a301-4829-b315-3a1ee5d24fb7",
   "metadata": {},
   "source": [
    "## We have configured our nodes. Now, we can design and start our experiments. "
   ]
  },
  {
   "cell_type": "markdown",
   "id": "fd8b6b37-b634-4f4d-9776-ad69e6a3617c",
   "metadata": {},
   "source": [
    "### Execute Experiment"
   ]
  },
  {
   "cell_type": "code",
   "execution_count": null,
   "id": "6c19512d-dc7e-4860-a7af-bd280b318a7a",
   "metadata": {},
   "outputs": [],
   "source": [
    "# nodes and instances\n",
    "\n",
    "tx_L4S_node = slice.get_node(name=\"tx_L4S\")\n",
    "tx_legacy_node = slice.get_node(name=\"tx_legacy\")\n",
    "rx_L4S_node = slice.get_node(name=\"rx_L4S\")\n",
    "rx_legacy_node = slice.get_node(name=\"rx_legacy\")\n",
    "delay_node = slice.get_node(name=\"delay\")\n",
    "router_node = slice.get_node(name=\"router\")\n",
    "# interfaces\n",
    "\n",
    "tx_L4S_egress_iface  = tx_L4S_node.get_interface(network_name = \"net-tx\")\n",
    "tx_legacy_egress_iface  = tx_legacy_node.get_interface(network_name = \"net-tx\")\n",
    "\n",
    "delay_ingress_tx_iface  = delay_node.get_interface(network_name = \"net-tx\")\n",
    "delay_egress_iface  = delay_node.get_interface(network_name = \"net-delay-router\")\n",
    "delay_ingress_tx_name = delay_ingress_tx_iface.get_device_name()\n",
    "delay_egress_name = delay_egress_iface.get_device_name()\n",
    "\n",
    "router_ingress_iface  = router_node.get_interface(network_name = \"net-delay-router\")\n",
    "router_egress_iface  = router_node.get_interface(network_name = \"net-rx\")\n",
    "router_egress_name  = router_egress_iface.get_device_name()\n",
    "\n",
    "\n",
    "rx_L4S_ingress_iface  = rx_L4S_node.get_interface(network_name = \"net-rx\")\n",
    "rx_legacy_ingress_iface  = rx_legacy_node.get_interface(network_name = \"net-rx\")"
   ]
  },
  {
   "cell_type": "code",
   "execution_count": null,
   "id": "5e2ba54b-155f-4b3f-8d42-36d0b0361504",
   "metadata": {},
   "outputs": [],
   "source": [
    "# generate full factorial experiment\n",
    "import itertools\n",
    "\n",
    "\n",
    "# exp_factors define our experiment factors. You can arrange it here according to your experiment configuration.\n",
    "\n",
    "\n",
    "# IMPORTANT THINGS TO CONSIDER:\n",
    "\n",
    "    # For DualPI2, on the router, you need to use the Prague kernel and configure DualPI2.\n",
    "    # For FQ_Codel_L4S (L4S-aware FQ-CoDel), on the router, you need to use the Linux kernel version 5.16 and beyond and also update iproute2. In this notebook, we use Linux kernel 5.17 and iproute2-6.9.0.\n",
    "    # On L4S senders, you can use Prague and L4S-compatible BBRv2 with Prague kernel with AccECN enabled.\n",
    "    # On classic senders, you can use BBRv2 with the BBRv2 kernel (5.13.12) we installed in this notebook. You can use BBRv3 with BBRv3 kernel (6.4.0+) that we installed in this notebook. You can use CUBIC and BBRv1 with both kernels (in bbrv3 kernel, bbrv1's name is bbr1). We used 5.13.12 for bbrv1 and cubic. \n",
    "\n",
    "    # Therefore, please be aware of which kernel is installed on which node before starting the experiments and select AQM type and TCP CC type according to those installed kernels. \n",
    "\n",
    "    # ecn_threshold parameter will not be applied to FIFO, pie_drop, and Codel_drop. They are drop-based AQMs.\n",
    "\n",
    "    # ecn_fallback parameter is for TCP Prague specifically to enable or disable its fallback algorithm for single queue classic ECN queues. It is disabled by default but you can enable it.\n",
    "\n",
    "    # In a single run, for instance, if you run [prague vs cubic] and [L4S bbr2 vs cubic], on the classic sender, the same file name will be generated and it will cause problem. \n",
    "    # Therefore, DO NOT RUN multiple CCA combinations in a single run.\n",
    "    # Namely, for instance, run for Prague vs CUBIC, and save the data. Then, run for L4S-compatible BBRv2 vs CUBIC and save the data. \n",
    "    # DONT RUN Prague vs CUBIC and L4S-compatible BBRv2 vs CUBIC in a single run and then save the data, this will cause problem because CUBIC file names will be the same for both cases.\n",
    "    # You can configure the name_tx_L4S and name_tx_legacy parameters in the next cell to fix this, if you want. \n",
    "\n",
    "    # You can use multiple notebooks for different CCA combinations.\n",
    "\n",
    "exp_factors = {\n",
    "    'n_bdp': [0.5,1,2,4,8],  # n x bandwidth delay product (BDP)\n",
    "    'btl_capacity': [100], #in Mbps \n",
    "    'base_rtt': [10], # in ms \n",
    "    'aqm': ['FIFO', 'single_queue_FQ', 'pie_drop', 'Codel_drop', 'Codel', 'FQ', 'FQ_Codel', 'FQ_Codel_L4S', 'DualPI2'],\n",
    "    'ecn_threshold': [5], # in ms\n",
    "    'ecn_fallback': [0],  #fallback algorithm, TCP Prague falls back to classic TCP when it detects single queue classic ECN bottleneck # 0: OFF, 1: ON  #'ecn_fallback': [0, 1]\n",
    "    'tx_L4S_ecn': [3],  # 0: noecn, 1: ecn, 3: accecn #'rx_L4S_ecn': [0, 1, 3]\n",
    "    'tx_legacy_ecn': [0],  # 0: noecn, 1: ecn #'rx_legacy_ecn': [0, 1]\n",
    "    'rx_L4S_ecn': [3],  # 0: noecn, 1: ecn, 3: accecn #'rx_L4S_ecn': [0, 1, 3]\n",
    "    'rx_legacy_ecn': [0],  # 0: noecn, 1: ecn #'rx_legacy_ecn': [0, 1]\n",
    "    'cc_tx_L4S': [\"prague\"], # prague, bbr2\n",
    "    'cc_tx_legacy': [\"cubic\"], # cubic, bbr, bbr2, bbr3\n",
    "    'N_L4S':[1, 2, 5, 10, 25],\n",
    "    'N_legacy':[1, 2, 5, 10, 25],\n",
    "    'trial': [1,2,3,4,5,6,7,8,9,10] # it means total 10 trials here.\n",
    "}\n",
    "\n",
    "factor_names = [k for k in exp_factors]\n",
    "factor_lists = list(itertools.product(*exp_factors.values()))\n",
    "\n",
    "exp_lists = []\n",
    "\n",
    "seen_combinations = set()\n",
    "\n",
    "# Removing ECN factor from FIFO bottleneck because it does not support ECN. This could be done also for pie_drop and codel_drop but we have not done.\n",
    "# Removing the cases where ECN Threshold is less than or equal to the buffer size in time, these cases are not meaningful in practice.\n",
    "\n",
    "for factor_l in factor_lists:\n",
    "    temp_dict = dict(zip(factor_names, factor_l))\n",
    "    if temp_dict['n_bdp'] * temp_dict['base_rtt'] >= temp_dict['ecn_threshold']:\n",
    "        if temp_dict['aqm'] == 'FIFO':\n",
    "            del temp_dict['ecn_threshold']\n",
    "        # Convert dict to a frozenset for set operations\n",
    "        fs = frozenset(temp_dict.items())\n",
    "    \n",
    "        if fs not in seen_combinations:\n",
    "            seen_combinations.add(fs)\n",
    "            exp_lists.append(temp_dict)\n",
    "\n",
    "data_dir_tx_L4S = slice_name + 'singlebottleneck'+\"-tx_L4S\"\n",
    "data_dir_tx_legacy = slice_name + 'singlebottleneck'+\"-tx_legacy\"\n",
    "\n",
    "print(\"Number of experiments:\",len(exp_lists))"
   ]
  },
  {
   "cell_type": "code",
   "execution_count": null,
   "id": "7c9fab13-28bd-4f57-a5e1-c20c9d364a9d",
   "metadata": {
    "scrolled": true
   },
   "outputs": [],
   "source": [
    "# IMPORTANT THINGS TO CONSIDER:\n",
    "\n",
    "    # If you use BBRv2 on the classic sender with ECN, check the code below carefully. There are some additional instructions to enable ECN. \n",
    "\n",
    "# run experiments\n",
    "import time\n",
    "d = 60 #duration in seconds\n",
    "\n",
    "em = [delay_ingress_tx_name, delay_egress_name]\n",
    "\n",
    "for exp in exp_lists:\n",
    "\n",
    "    # check if we already ran this experiment\n",
    "    # (allow stop/resume)\n",
    "    name_tx_L4S=\"%s_%0.1f_%d_%d_%s_%s_%d_%d_%d_%d_%d_%d\" % (exp['cc_tx_L4S'],exp['n_bdp'], exp['btl_capacity'], exp['base_rtt'], exp['aqm'], str(exp.get('ecn_threshold', 'none')), exp['ecn_fallback'], exp['rx_L4S_ecn'], exp['rx_legacy_ecn'], exp['N_L4S'], exp['N_legacy'], exp['trial'])\n",
    "    name_tx_legacy=\"%s_%0.1f_%d_%d_%s_%s_%d_%d_%d_%d_%d_%d\" % (exp['cc_tx_legacy'],exp['n_bdp'], exp['btl_capacity'], exp['base_rtt'], exp['aqm'], str(exp.get('ecn_threshold', 'none')), exp['ecn_fallback'], exp['rx_L4S_ecn'], exp['rx_legacy_ecn'], exp['N_L4S'], exp['N_legacy'], exp['trial'])\n",
    "\n",
    "    file_out_tx_L4S_json = name_tx_L4S+\"-result.json\"\n",
    "    stdout_tx_L4S_json, stderr_tx_L4S_json = tx_L4S_node.execute(\"ls \" + file_out_tx_L4S_json, quiet=True) \n",
    "    \n",
    "    file_out_tx_legacy_json =name_tx_legacy+\"-result.json\"\n",
    "    stdout_tx_legacy_json, stderr_tx_legacy_json = tx_legacy_node.execute(\"ls \" + file_out_tx_legacy_json, quiet=True) \n",
    "    \n",
    "\n",
    "    if len(stdout_tx_L4S_json) and len(stdout_tx_legacy_json):\n",
    "        print(\"Already have \" + name_tx_L4S + \" and \"+ name_tx_legacy + \", skipping\")\n",
    "\n",
    "    elif len(stderr_tx_L4S_json) or len(stderr_tx_legacy_json):\n",
    "        print(\"Running experiment to generate \" + name_tx_L4S + \" and \"+ name_tx_legacy) \n",
    "\n",
    "        cc_tx_legacy = exp['cc_tx_legacy']\n",
    "\n",
    "        if cc_tx_legacy == 'bbr3': # we are doing this, because in BBRv3 kernel, name of BBRv3 is \"bbr\" not \"bbr3\". \n",
    "\n",
    "            cc_tx_legacy = \"bbr\"\n",
    "\n",
    "        tx_L4S_node.execute(\"sudo modprobe tcp_\" + exp['cc_tx_L4S'])\n",
    "        tx_L4S_node.execute(\"sudo sysctl -w net.ipv4.tcp_congestion_control=\" + exp['cc_tx_L4S'])\n",
    "        tx_L4S_node.execute(\"sudo sysctl -w net.ipv4.tcp_ecn=\"+str(exp['tx_L4S_ecn'])) \n",
    "        \n",
    "        tx_legacy_node.execute(\"sudo modprobe tcp_\" + cc_tx_legacy)\n",
    "        tx_legacy_node.execute(\"sudo sysctl -w net.ipv4.tcp_congestion_control=\" + cc_tx_legacy)\n",
    "        tx_legacy_node.execute(\"sudo sysctl -w net.ipv4.tcp_ecn=\"+str(exp['tx_legacy_ecn'])) \n",
    "\n",
    "        rx_legacy_node.execute(\"sudo modprobe tcp_\" + exp['cc_tx_legacy'])\n",
    "        rx_legacy_node.execute(\"sudo sysctl -w net.ipv4.tcp_congestion_control=\" + cc_tx_legacy)\n",
    "        rx_legacy_node.execute(\"sudo sysctl -w net.ipv4.tcp_ecn={ecn_type}\".format(ecn_type=exp['rx_legacy_ecn']))      \n",
    "\n",
    "        \n",
    "        # If you use BBRv2 on the classic sender with ECN, to enable ECN, you need to uncomment the following two lines. \n",
    "        \n",
    "        #tx_legacy_node.execute(\"echo 1 | sudo tee /sys/module/tcp_bbr2/parameters/ecn_enable\") \n",
    "        #tx_legacy_node.execute(\"echo 0 | sudo tee /sys/module/tcp_bbr2/parameters/ecn_max_rtt_us\") \n",
    "\n",
    "        \n",
    "        # If you use BBRv2 on the classic sender and receiver with ECN, to enable DCTCP-style marking on the receiver side, you need to uncomment the following two lines. \n",
    "        # Otherwise, they will do classic marking, instead of DCTCP-style marking.\n",
    "        \n",
    "        #rx_legacy_node.execute(\"echo 1 | sudo tee /sys/module/tcp_bbr2/parameters/ecn_enable\") \n",
    "        #rx_legacy_node.execute(\"echo 0 | sudo tee /sys/module/tcp_bbr2/parameters/ecn_max_rtt_us\")\n",
    "        \n",
    "        # delay at emulator\n",
    "        for e in em:\n",
    "            cmds = \"sudo tc qdisc replace dev {iface} root netem delay {owd}ms limit 60000\".format(iface=e, owd=exp['base_rtt']/2)\n",
    "            delay_node.execute(cmds)\n",
    "        \n",
    "        # fixed values\n",
    "        btl_limit    = int(1000*exp['n_bdp']*exp['btl_capacity']*exp['base_rtt']/8) # limit of the bottleneck, n_bdp x BDP in bytes \n",
    "        packet_number=int(btl_limit/1500)+1\n",
    "        \n",
    "        \n",
    "        #ecn-fallback configuration\n",
    "\n",
    "        if exp['cc_tx_L4S']=='prague':\n",
    "            commands = \"echo {value} | sudo tee /sys/module/tcp_prague/parameters/prague_ecn_fallback\".format(value=str(exp['ecn_fallback']))\n",
    "            tx_L4S_node.execute(commands)\n",
    "        \n",
    "        #receiver ecn configuration\n",
    "        \n",
    "        rx_L4S_node.execute(\"sudo sysctl -w net.ipv4.tcp_congestion_control=\" + exp['cc_tx_L4S'])\n",
    "        rx_L4S_node.execute(\"sudo sysctl -w net.ipv4.tcp_ecn={ecn_type}\".format(ecn_type=exp['rx_L4S_ecn']))\n",
    "         \n",
    "        #aqm type selection\n",
    "        cmds_prefix = '''\n",
    "            sudo tc qdisc del dev {iface} root\n",
    "            sudo tc qdisc replace dev {iface} root handle 1: htb default 3 \n",
    "            sudo tc class add dev {iface} parent 1: classid 1:3 htb rate {capacity}mbit \n",
    "            '''.format(iface=router_egress_name, capacity=exp['btl_capacity'], buffer=btl_limit)\n",
    "        \n",
    "        cmds_specific_initial = \"sudo tc qdisc replace dev {iface} parent 1:3 handle 3: \".format(iface=router_egress_name)\n",
    "        \n",
    "        cmds_specific = {\n",
    "        'FIFO': \"bfifo limit {buffer}\".format(buffer=btl_limit),\n",
    "        'single_queue_FQ': \"fq limit {packet_limit} flow_limit {packet_limit} orphan_mask 0 ce_threshold {threshold}ms\".format(packet_limit=packet_number, threshold=exp.get('ecn_threshold', 0)),\n",
    "        'Codel': \"codel limit {packet_limit} target {target}ms interval 100ms ecn\".format(packet_limit=packet_number, target=exp.get('ecn_threshold', 0)),\n",
    "        'Codel_drop': \"codel limit {packet_limit} target {target}ms interval 100ms noecn\".format(packet_limit=packet_number, target=exp.get('ecn_threshold', 0)),\n",
    "        'FQ': \"fq limit {packet_limit} flow_limit {packet_limit} ce_threshold {threshold}ms\".format(packet_limit=packet_number, threshold=exp.get('ecn_threshold', 0)),\n",
    "        'FQ_Codel': \"fq_codel limit {packet_limit} target {target}ms interval 100ms ecn\".format(packet_limit=packet_number, target=exp.get('ecn_threshold', 0)),\n",
    "        'FQ_Codel_L4S': \"fq_codel limit {packet_limit} target {target}ms interval 100ms ecn ce_threshold 1ms ce_threshold_selector 0x01/0x01\".format(packet_limit=packet_number, target=exp.get('ecn_threshold', 0)),\n",
    "        'pie_drop': \"pie limit {packet_limit} target {target}ms noecn\".format(packet_limit=packet_number, target=exp.get('ecn_threshold', 0)),\n",
    "        'DualPI2': \"dualpi2 target {threshold}ms\".format(threshold=exp.get('ecn_threshold', 0))\n",
    "        }\n",
    "\n",
    "        cmds_aqm = {key: cmds_specific_initial + cmd for key, cmd in cmds_specific.items()}\n",
    "        \n",
    "        router_node.execute(cmds_prefix)\n",
    "        router_node.execute(cmds_aqm[ exp['aqm'] ])\n",
    "            \n",
    "        rx_L4S_node.execute(\"killall iperf3\")\n",
    "        rx_legacy_node.execute(\"killall iperf3\")\n",
    "\n",
    "        # Example SS script, if you want, you can uncomment corresponding lines but we have not used ss output in these experiments.\n",
    "        \n",
    "        #ss_tx_L4S_script=\"rm -f {flow}-ss.txt; start_time=$(date +%s); while true; do ss --no-header -eipn dst 10.0.5.100 | ts '%.s' | tee -a {flow}-ss.txt; current_time=$(date +%s); elapsed_time=$((current_time - start_time));  if [ $elapsed_time -ge {duration} ]; then break; fi; sleep 0.1; done;\"\n",
    "        #ss_tx_legacy_script=\"rm -f {flow}-ss.txt; start_time=$(date +%s); while true; do ss --no-header -eipn dst 10.0.5.101 | ts '%.s' | tee -a {flow}-ss.txt; current_time=$(date +%s); elapsed_time=$((current_time - start_time));  if [ $elapsed_time -ge {duration} ]; then break; fi; sleep 0.1; done;\"\n",
    "                \n",
    "        rx_L4S_node.execute(\"iperf3 -s -1 -p 4000 -D\")\n",
    "        rx_legacy_node.execute(\"iperf3 -s -1 -p 5000 -D\")\n",
    "\n",
    "        #tx_L4S_node.execute_thread(ss_tx_L4S_script.format(flow=name_tx_L4S, duration=d))\n",
    "        #tx_legacy_node.execute_thread(ss_tx_legacy_script.format(flow=name_tx_legacy, duration=d))\n",
    "        \n",
    "        tx_L4S_node.execute_thread(\"sleep 1; iperf3 -c 10.0.5.100 -t {duration} -P {flows} -C {cc} -p 4000 -J > {flow}-result.json\".format(flow =name_tx_L4S, duration=d, flows=exp['N_L4S'], cc=exp['cc_tx_L4S']))\n",
    "        stdout, stderr = tx_legacy_node.execute(\"sleep 1; iperf3 -c 10.0.5.101 -t {duration} -P {flows} -C {cc} -p 5000 -J > {flow}-result.json\".format(flow =name_tx_legacy, duration=d, flows=exp['N_legacy'], cc=exp['cc_tx_legacy']))\n",
    "        time.sleep(3)  # time.sleep(1)\n",
    "        \n",
    "print(\"finished\")"
   ]
  },
  {
   "cell_type": "markdown",
   "id": "c5f89bce-fc5f-4741-9aac-40e10a9e1afd",
   "metadata": {},
   "source": [
    "## Our experiments are finished. Now, we can process the data and generate the required files."
   ]
  },
  {
   "cell_type": "markdown",
   "id": "33adbc37-7171-4c8b-9793-86319f87c892",
   "metadata": {},
   "source": [
    "### Analysis of the results"
   ]
  },
  {
   "cell_type": "code",
   "execution_count": null,
   "id": "2d232545-094f-4bfc-8c26-bb9930219053",
   "metadata": {},
   "outputs": [],
   "source": [
    "cmds_py_install = '''\n",
    "            sudo apt -y install python3-pip\n",
    "            pip install numpy\n",
    "            pip install matplotlib\n",
    "            pip install pandas\n",
    "            '''\n",
    "\n",
    "tx_L4S_node.execute(cmds_py_install)\n",
    "tx_legacy_node.execute(cmds_py_install)"
   ]
  },
  {
   "cell_type": "markdown",
   "id": "08b155d9-932a-4dae-a9b5-2b203b23bbd7",
   "metadata": {},
   "source": [
    "#### ANALYSIS WITHOUT SS OUTPUT ####"
   ]
  },
  {
   "cell_type": "code",
   "execution_count": null,
   "id": "3136cf16-1dd7-48d7-bade-4105ee66a359",
   "metadata": {},
   "outputs": [],
   "source": [
    "tx_legacy_node.execute('mkdir '+data_dir_tx_legacy)\n",
    "tx_legacy_node.execute('mv *.json '+ data_dir_tx_legacy)\n",
    "\n",
    "tx_L4S_node.execute('mkdir '+data_dir_tx_L4S)\n",
    "tx_L4S_node.execute('mv *.json '+ data_dir_tx_L4S)"
   ]
  },
  {
   "cell_type": "code",
   "execution_count": null,
   "id": "93728f4e-f1b3-4197-b7c7-d72062d56d11",
   "metadata": {},
   "outputs": [],
   "source": [
    "tx_L4S_node.upload_file(\"/home/fabric/work/L4SProject/analysis.py\", f\"/home/ubuntu/{data_dir_tx_L4S}/analysis.py\")\n",
    "tx_legacy_node.upload_file(\"/home/fabric/work/L4SProject/analysis.py\", f\"/home/ubuntu/{data_dir_tx_legacy}/analysis.py\")"
   ]
  },
  {
   "cell_type": "code",
   "execution_count": null,
   "id": "19669056-8d6a-4379-9cd3-fb81bd29664b",
   "metadata": {},
   "outputs": [],
   "source": [
    "tx_L4S_node.execute(f'python3 /home/ubuntu/{data_dir_tx_L4S}/analysis.py')\n",
    "tx_legacy_node.execute(f'python3 /home/ubuntu/{data_dir_tx_legacy}/analysis.py')"
   ]
  },
  {
   "cell_type": "code",
   "execution_count": null,
   "id": "d9f1c97d-8dc3-4238-90c5-22136d007416",
   "metadata": {},
   "outputs": [],
   "source": [
    "tx_L4S_node.download_file(\"/home/fabric/work/L4SProject/ScalableBBRv2/tput_tx_L4S.json\",f\"/home/ubuntu/{data_dir_tx_L4S}/throughput_data.json\")\n",
    "tx_L4S_node.download_file(\"/home/fabric/work/L4SProject/ScalableBBRv2/srtt_tx_L4S.json\",f\"/home/ubuntu/{data_dir_tx_L4S}/srtt_data.json\")\n",
    "\n",
    "tx_legacy_node.download_file(\"/home/fabric/work/L4SProject/ScalableBBRv2/tput_tx_legacy.json\",f\"/home/ubuntu/{data_dir_tx_legacy}/throughput_data.json\")\n",
    "tx_legacy_node.download_file(\"/home/fabric/work/L4SProject/ScalableBBRv2/srtt_tx_legacy.json\",f\"/home/ubuntu/{data_dir_tx_legacy}/srtt_data.json\")"
   ]
  },
  {
   "cell_type": "code",
   "execution_count": null,
   "id": "93edaf99-47fd-4dde-b284-7174a74bd85a",
   "metadata": {},
   "outputs": [],
   "source": [
    "import json\n",
    "import os\n",
    "\n",
    "# Initialize empty variables\n",
    "throughput_data = {}\n",
    "srtt_data = {}\n",
    "\n",
    "# Directory containing JSON files\n",
    "data_directory = '/home/fabric/work/L4SProject/ScalableBBRv2/results/cubic_noecn/'\n",
    "\n",
    "# List of JSON files in the directory\n",
    "json_files = [f for f in os.listdir(data_directory) if f.endswith('.json')]\n",
    "\n",
    "# Load data from each JSON file and update the variables\n",
    "for file_name in json_files:\n",
    "    file_path = os.path.join(data_directory, file_name)\n",
    "    with open(file_path, 'r') as f:\n",
    "        data = json.load(f)\n",
    "\n",
    "    # Check if the file contains throughput data or srtt data based on its name\n",
    "    if 'tput' in file_name:\n",
    "        throughput_data.update(data)\n",
    "    elif 'srtt' in file_name:\n",
    "        srtt_data.update(data)"
   ]
  },
  {
   "cell_type": "markdown",
   "id": "352617f3-20c2-4837-a8bd-493b598c0c25",
   "metadata": {},
   "source": [
    "### Now we have json files for both tput and srtt. We will use these files in plotting notebooks. However, be careful about the comment below to use our plotting notebook."
   ]
  },
  {
   "cell_type": "markdown",
   "id": "3a94c8ee-da3d-4e1d-889f-bd07d01a2257",
   "metadata": {},
   "source": [
    "In our data processing notebook, to identify and differentiate the flows, JSON file name should start with classic TCP CC type and it should include srtt or tput.\n",
    "For instance: for experiments Prague vs CUBIC, cubic_tput_tx_L4S.json contains all the throughput data and in those experiments the classic flow is cubic.\n",
    "For instance: for experiments Prague vs BBRv2, bbr2_tput_tx_L4S.json contains all the throughput data and in those experiments the classic flow is bbrv2.\n",
    "\n",
    "\n",
    "Therefore, you should arrange the file names accordingly."
   ]
  },
  {
   "cell_type": "markdown",
   "id": "803f2f41-8d9c-4f94-88cc-752b7832420b",
   "metadata": {},
   "source": [
    "## Extra: For SS output - By default it is not enabled in this notebook. You can skip this section, if you did not use SS in your experiments."
   ]
  },
  {
   "cell_type": "code",
   "execution_count": null,
   "id": "e57742dd-a9f0-484e-afb6-d237c4933027",
   "metadata": {},
   "outputs": [],
   "source": [
    "# Function generating a script to create the csv files\n",
    "def generate_script(name): \n",
    "    return \"\"\"\n",
    "        rm -f {name}-ss.csv\n",
    "        cat {name}-ss.txt | sed -e \":a; /<->$/ {{ N; s/<->\\\\n//; ba; }}\"  | grep \"iperf3\" | grep -v \"SYN-SENT\" > {name}-ss-processed.txt \n",
    "        cat {name}-ss-processed.txt | awk '{{print $1}}' > ts-{name}.txt \n",
    "        cat {name}-ss-processed.txt | grep -oP 'cwnd:\\\\d+' | awk -F ':' '{{print $2}}' > cwnd-{name}.txt \n",
    "        cat {name}-ss-processed.txt | grep -oP 'rtt:.*?(\\\\s|$)' | awk -F '[:,]' '{{print $2}}' | tr -d ' '  | cut -d '/' -f 1 > srtt-{name}.txt \n",
    "        cat {name}-ss-processed.txt | grep -oP 'fd=.*?(\\\\s|$)' | awk -F '[=,]' '{{print $2}}' | tr -d ')' | tr -d ' '   > fd-{name}.txt\n",
    "        paste ts-{name}.txt fd-{name}.txt cwnd-{name}.txt srtt-{name}.txt -d ',' > {name}-ss.csv\n",
    "    \"\"\".format(name=name)\n"
   ]
  },
  {
   "cell_type": "code",
   "execution_count": null,
   "id": "36090f2f-767d-4c46-bbb4-f691ad99cf0b",
   "metadata": {},
   "outputs": [],
   "source": [
    "for exp in exp_lists:\n",
    "    \n",
    "    name_tx_L4S=\"%s_%0.1f_%d_%d_%s_%s_%d_%d_%d_%d\" % (exp['cc_tx_L4S'],exp['n_bdp'], exp['btl_capacity'], exp['base_rtt'], exp['aqm'], str(exp.get('ecn_threshold', 'none')), exp['ecn_fallback'], exp['rx_L4S_ecn'], exp['rx_legacy_ecn'], exp['trial'])\n",
    "    name_tx_legacy=\"%s_%0.1f_%d_%d_%s_%s_%d_%d_%d_%d\" % (exp['cc_tx_legacy'],exp['n_bdp'], exp['btl_capacity'], exp['base_rtt'], exp['aqm'], str(exp.get('ecn_threshold', 'none')), exp['ecn_fallback'], exp['rx_L4S_ecn'], exp['rx_legacy_ecn'], exp['trial'])\n",
    "    \n",
    "    \n",
    "    file_out_tx0_csv = name_tx_L4S+\"-ss.csv\"\n",
    "    stdout_tx0_csv, stderr_tx0_csv = tx_L4S_node.execute(\"ls \" + file_out_tx0_csv, quiet=True) \n",
    "    \n",
    "    file_out_tx1_csv = name_tx_L4S+\"-ss.csv\"\n",
    "    stdout_tx1_csv, stderr_tx1_csv = tx_legacy_node.execute(\"ls \" + file_out_tx1_csv, quiet=True) \n",
    "\n",
    "    if len(stdout_tx0_csv) and len(stdout_tx1_csv):\n",
    "        print(\"Already have \" + name_tx_L4S + \" and \"+ name_tx_legacy + \", skipping\")\n",
    "\n",
    "    elif len(stderr_tx0_csv) or len(stderr_tx1_csv):\n",
    "        print(\"Running to generate csv files \" + name_tx_L4S + \" and \"+ name_tx_legacy)\n",
    "    \n",
    "        script_tx0 = generate_script(name_tx_L4S)\n",
    "        script_tx1 = generate_script(name_tx_legacy)\n",
    "\n",
    "        tx_L4S_node.execute(script_tx0)\n",
    "        tx_legacy_node.execute(script_tx1)"
   ]
  },
  {
   "cell_type": "code",
   "execution_count": null,
   "id": "94406223-674b-4b9e-91f5-5ea8d119f707",
   "metadata": {},
   "outputs": [],
   "source": [
    "tx_legacy_node.execute('mkdir '+data_dir_tx_legacy)\n",
    "\n",
    "tx_legacy_node.execute('mv *.json '+ data_dir_tx_legacy)\n",
    "tx_legacy_node.execute('mv *.csv '+ data_dir_tx_legacy)\n",
    "tx_legacy_node.execute('mv *.txt '+ data_dir_tx_legacy)\n",
    "\n",
    "tx_L4S_node.execute('mkdir '+data_dir_tx_L4S)\n",
    "\n",
    "tx_L4S_node.execute('mv *.json '+ data_dir_tx_L4S)\n",
    "tx_L4S_node.execute('mv *.csv '+ data_dir_tx_L4S)\n",
    "tx_L4S_node.execute('mv *.txt '+ data_dir_tx_L4S)"
   ]
  },
  {
   "cell_type": "code",
   "execution_count": null,
   "id": "fde82d14-dcb3-4dcb-a0f7-2a8af90d54ac",
   "metadata": {},
   "outputs": [],
   "source": [
    "tx_legacy_node.upload_file(\"/home/fabric/work/L4SProject/analysis_with_ss.py\", f\"/home/ubuntu/{data_dir_tx_legacy}/analysis_with_ss.py\")\n",
    "tx_L4S_node.upload_file(\"/home/fabric/work/L4SProject/analysis_with_ss.py\", f\"/home/ubuntu/{data_dir_tx_L4S}/analysis_with_ss.py\")"
   ]
  },
  {
   "cell_type": "code",
   "execution_count": null,
   "id": "8b0a9c9b-aef1-4556-a851-ebbc26902b57",
   "metadata": {},
   "outputs": [],
   "source": [
    "tx_legacy_node.execute(f\"chmod +x /home/ubuntu/{data_dir_tx_legacy}/analysis_with_ss.py\")\n",
    "tx_L4S_node.execute(f\"chmod +x /home/ubuntu/{data_dir_tx_L4S}/analysis_with_ss.py\")"
   ]
  },
  {
   "cell_type": "code",
   "execution_count": null,
   "id": "6b19fac4-2db5-4932-8be4-49607b009f08",
   "metadata": {},
   "outputs": [],
   "source": [
    "tx_legacy_node.download_file(\"/home/fabric/work/L4SProject/ScalableBBRv2/tput_tx_legacy.json\",f\"/home/ubuntu/{data_dir_tx_legacy}/throughput_data.json\")\n",
    "tx_legacy_node.download_file(\"/home/fabric/work/L4SProject/ScalableBBRv2/srtt_tx_legacy.json\",f\"/home/ubuntu/{data_dir_tx_legacy}/srtt_data.json\")"
   ]
  },
  {
   "cell_type": "code",
   "execution_count": null,
   "id": "e3241d4b-23e2-4ec3-ab52-47888155c56f",
   "metadata": {},
   "outputs": [],
   "source": [
    "tx_legacy_node.download_file(\"/home/fabric/work/L4SProject/ScalableBBRv2/cwnd_tx1.csv\",f\"/home/ubuntu/{data_dir_tx_legacy}/consolidated_cwnd_data.csv\")\n",
    "tx_legacy_node.download_file(\"/home/fabric/work/L4SProject/ScalableBBRv2/time_tx1.csv\",f\"/home/ubuntu/{data_dir_tx_legacy}/consolidated_time_data.csv\")\n",
    "tx_legacy_node.download_file(\"/home/fabric/work/L4SProject/ScalableBBRv2/srtt_tx1.csv\",f\"/home/ubuntu/{data_dir_tx_legacy}/srtt_all.csv\")"
   ]
  },
  {
   "cell_type": "markdown",
   "id": "81425066-a877-49db-a700-eab5f19fd9dc",
   "metadata": {},
   "source": [
    "### At this point, we have cwnd, srtt, and timestamp values as time series for each experiment. While you can plot them if desired, it is beyond the scope of this study."
   ]
  }
 ],
 "metadata": {
  "kernelspec": {
   "display_name": "Python 3 (ipykernel)",
   "language": "python",
   "name": "python3"
  },
  "language_info": {
   "codemirror_mode": {
    "name": "ipython",
    "version": 3
   },
   "file_extension": ".py",
   "mimetype": "text/x-python",
   "name": "python",
   "nbconvert_exporter": "python",
   "pygments_lexer": "ipython3",
   "version": "3.11.8"
  }
 },
 "nbformat": 4,
 "nbformat_minor": 5
}
